{
 "cells": [
  {
   "cell_type": "markdown",
   "id": "5553f735-a02f-44f5-92c2-00d17e65c106",
   "metadata": {},
   "source": [
    "#### PROJECT THEME: DATA-DRIVEN CRIME ANALYTICS IN SOUTH AFRICA"
   ]
  },
  {
   "cell_type": "markdown",
   "id": "26cfe00f-b3fb-4272-b060-9b5deef3242c",
   "metadata": {},
   "source": [
    "### Source of dataset"
   ]
  },
  {
   "cell_type": "markdown",
   "id": "2352fb30-36b2-4ded-947a-65e3bd39117c",
   "metadata": {},
   "source": [
    "### links to dataset :"
   ]
  },
  {
   "cell_type": "code",
   "execution_count": 15,
   "id": "a040fb22-3395-47b7-abff-5b8b5d5f157b",
   "metadata": {},
   "outputs": [],
   "source": [
    "url = \"https://livemutac-my.sharepoint.com/:x:/g/personal/22442801_live_mut_ac_za/EX-y0swKGPNNtwGnWz0c4WoBGpYXrpe-JM_gicvdZeY8zg?e=FZj4l\"\n"
   ]
  },
  {
   "cell_type": "code",
   "execution_count": 16,
   "id": "7d3458ac-ddf3-4e4b-b1d4-a6aa9742cf50",
   "metadata": {},
   "outputs": [],
   "source": [
    "url = \"https://livemutac-my.sharepoint.com/:x:/g/personal/22442801_live_mut_ac_za/EX-y0swKGPNNtwGnWz0c4WoBGpYXrpe-JM_gicvdZeY8zg?e=1ewYt0\""
   ]
  },
  {
   "cell_type": "markdown",
   "id": "73311cce-a729-4714-aabd-8a8625f618cf",
   "metadata": {},
   "source": [
    "### Loading CSV file"
   ]
  },
  {
   "cell_type": "code",
   "execution_count": 66,
   "id": "deead36e-ce13-45b8-810f-04976bd8746c",
   "metadata": {},
   "outputs": [],
   "source": [
    "import pandas as pd\n",
    "\n",
    "population = pd.read_csv(r\"C:\\Users\\22442801\\Downloads\\Literacy Rate inflation GDP in Bangladesh Dataset - RAW.csv\")\n",
    "crime = pd.read_csv(r\"C:\\Users\\22442801\\Downloads\\crime_incidents_by_category.csv\")"
   ]
  },
  {
   "cell_type": "markdown",
   "id": "38613aba-9ae4-48a5-be99-b7f7b48fb10c",
   "metadata": {},
   "source": [
    "### Cleaning the CSV"
   ]
  },
  {
   "cell_type": "code",
   "execution_count": 30,
   "id": "3c66ef73-614f-416e-af71-2a20fd0efa2b",
   "metadata": {},
   "outputs": [
    {
     "data": {
      "text/html": [
       "<div>\n",
       "<style scoped>\n",
       "    .dataframe tbody tr th:only-of-type {\n",
       "        vertical-align: middle;\n",
       "    }\n",
       "\n",
       "    .dataframe tbody tr th {\n",
       "        vertical-align: top;\n",
       "    }\n",
       "\n",
       "    .dataframe thead th {\n",
       "        text-align: right;\n",
       "    }\n",
       "</style>\n",
       "<table border=\"1\" class=\"dataframe\">\n",
       "  <thead>\n",
       "    <tr style=\"text-align: right;\">\n",
       "      <th></th>\n",
       "      <th>Year</th>\n",
       "      <th>Literacy Rate(%)</th>\n",
       "      <th>Population</th>\n",
       "      <th>Population growth rate (%)</th>\n",
       "      <th>Migrant Population (Estimated)</th>\n",
       "      <th>Net Migration Rate</th>\n",
       "      <th>Growth Rate</th>\n",
       "      <th>Inflation Rate (%)</th>\n",
       "      <th>Annual Change (%)</th>\n",
       "      <th>GNI (Billion USD)</th>\n",
       "      <th>...</th>\n",
       "      <th>Military Size</th>\n",
       "      <th>Annual % Change\\r</th>\n",
       "      <th>Suicide Rate</th>\n",
       "      <th>Suicide Rate - Male</th>\n",
       "      <th>Suicide Rate - Female</th>\n",
       "      <th>Education Spending (% of GDP)</th>\n",
       "      <th>Annual Change.9</th>\n",
       "      <th>Arable Land -Hectares</th>\n",
       "      <th>Per Capita</th>\n",
       "      <th>Percent</th>\n",
       "    </tr>\n",
       "  </thead>\n",
       "  <tbody>\n",
       "    <tr>\n",
       "      <th>0</th>\n",
       "      <td>1980.0</td>\n",
       "      <td>26.0</td>\n",
       "      <td>83,929,765</td>\n",
       "      <td>2.47%</td>\n",
       "      <td>720,000</td>\n",
       "      <td>-2.569</td>\n",
       "      <td>-8.38%</td>\n",
       "      <td>0.82</td>\n",
       "      <td>-0.82</td>\n",
       "      <td>18.48</td>\n",
       "      <td>...</td>\n",
       "      <td>NaN</td>\n",
       "      <td>NaN</td>\n",
       "      <td>NaN</td>\n",
       "      <td>NaN</td>\n",
       "      <td>NaN</td>\n",
       "      <td>5.26%</td>\n",
       "      <td>1.37%</td>\n",
       "      <td>9,121,000</td>\n",
       "      <td>11.00%</td>\n",
       "      <td>70.07%</td>\n",
       "    </tr>\n",
       "    <tr>\n",
       "      <th>1</th>\n",
       "      <td>1981.0</td>\n",
       "      <td>27.0</td>\n",
       "      <td>86,154,836</td>\n",
       "      <td>2.65%</td>\n",
       "      <td>730,000</td>\n",
       "      <td>-2.333</td>\n",
       "      <td>-9.19%</td>\n",
       "      <td>7.23</td>\n",
       "      <td>6.41</td>\n",
       "      <td>21.50</td>\n",
       "      <td>...</td>\n",
       "      <td>NaN</td>\n",
       "      <td>NaN</td>\n",
       "      <td>NaN</td>\n",
       "      <td>NaN</td>\n",
       "      <td>NaN</td>\n",
       "      <td>6.63%</td>\n",
       "      <td>1.37%</td>\n",
       "      <td>9,109,000</td>\n",
       "      <td>11.00%</td>\n",
       "      <td>69.98%</td>\n",
       "    </tr>\n",
       "    <tr>\n",
       "      <th>2</th>\n",
       "      <td>1982.0</td>\n",
       "      <td>27.8</td>\n",
       "      <td>88,555,336</td>\n",
       "      <td>2.79%</td>\n",
       "      <td>740,000</td>\n",
       "      <td>-2.098</td>\n",
       "      <td>-10.07%</td>\n",
       "      <td>2.13</td>\n",
       "      <td>-5.1</td>\n",
       "      <td>20.91</td>\n",
       "      <td>...</td>\n",
       "      <td>NaN</td>\n",
       "      <td>NaN</td>\n",
       "      <td>NaN</td>\n",
       "      <td>NaN</td>\n",
       "      <td>NaN</td>\n",
       "      <td>6.39%</td>\n",
       "      <td>-0.24%</td>\n",
       "      <td>9,104,000</td>\n",
       "      <td>10.00%</td>\n",
       "      <td>69.94%</td>\n",
       "    </tr>\n",
       "  </tbody>\n",
       "</table>\n",
       "<p>3 rows × 118 columns</p>\n",
       "</div>"
      ],
      "text/plain": [
       "     Year  Literacy Rate(%) Population  Population growth rate (%)  \\\n",
       "0  1980.0              26.0  83,929,765                      2.47%   \n",
       "1  1981.0              27.0  86,154,836                      2.65%   \n",
       "2  1982.0              27.8  88,555,336                      2.79%   \n",
       "\n",
       "  Migrant Population (Estimated)  Net Migration Rate Growth Rate  \\\n",
       "0                        720,000              -2.569      -8.38%   \n",
       "1                        730,000              -2.333      -9.19%   \n",
       "2                        740,000              -2.098     -10.07%   \n",
       "\n",
       "  Inflation Rate (%) Annual Change (%)  GNI (Billion USD)  ... Military Size   \\\n",
       "0               0.82             -0.82              18.48  ...            NaN   \n",
       "1               7.23              6.41              21.50  ...            NaN   \n",
       "2               2.13              -5.1              20.91  ...            NaN   \n",
       "\n",
       "  Annual % Change\\r Suicide Rate Suicide Rate - Male Suicide Rate - Female  \\\n",
       "0               NaN          NaN                 NaN                   NaN   \n",
       "1               NaN          NaN                 NaN                   NaN   \n",
       "2               NaN          NaN                 NaN                   NaN   \n",
       "\n",
       "  Education Spending (% of GDP) Annual Change.9 Arable Land -Hectares  \\\n",
       "0                         5.26%           1.37%             9,121,000   \n",
       "1                         6.63%           1.37%             9,109,000   \n",
       "2                         6.39%          -0.24%             9,104,000   \n",
       "\n",
       "  Per Capita Percent  \n",
       "0     11.00%  70.07%  \n",
       "1     11.00%  69.98%  \n",
       "2     10.00%  69.94%  \n",
       "\n",
       "[3 rows x 118 columns]"
      ]
     },
     "execution_count": 30,
     "metadata": {},
     "output_type": "execute_result"
    }
   ],
   "source": [
    "population.head(3)"
   ]
  },
  {
   "cell_type": "code",
   "execution_count": 99,
   "id": "296e93bd-ece9-47db-b1f2-4886b1440ede",
   "metadata": {},
   "outputs": [
    {
     "name": "stdout",
     "output_type": "stream",
     "text": [
      "   Financial Year  Literacy Rate(%)  Population Population growth rate (%)  \\\n",
      "0          1980.0              26.0  83,929,765                      2.47%   \n",
      "1          1981.0              27.0  86,154,836                      2.65%   \n",
      "2          1982.0              27.8  88,555,336                      2.79%   \n",
      "\n",
      "  Migrant Population (Estimated)  Net Migration Rate Growth Rate  \\\n",
      "0                        720,000              -2.569      -8.38%   \n",
      "1                        730,000              -2.333      -9.19%   \n",
      "2                        740,000              -2.098     -10.07%   \n",
      "\n",
      "  Inflation Rate (%)  GNI (Billion USD) Growth Rate (%)  ...  \\\n",
      "0               0.82              18.48            1.17  ...   \n",
      "1               7.23              21.50            9.28  ...   \n",
      "2               2.13              20.91            2.11  ...   \n",
      "\n",
      "  Electricity Access % of Population Annual Change.8  \\\n",
      "0                                NaN             NaN   \n",
      "1                                NaN             NaN   \n",
      "2                                NaN             NaN   \n",
      "\n",
      "  Military Spending/Defense Budget % of GDP.4 Military Size Annual % Change  \\\n",
      "0                           $0.17B      0.86%           NaN             NaN   \n",
      "1                           $0.17B      0.92%           NaN             NaN   \n",
      "2                           $0.18B      1.06%           NaN             NaN   \n",
      "\n",
      "  Education Spending (% of GDP) Annual Change.9 Per Capita Percent  \n",
      "0                         5.26%           1.37%     11.00%  70.07%  \n",
      "1                         6.63%           1.37%     11.00%  69.98%  \n",
      "2                         6.39%          -0.24%     10.00%  69.94%  \n",
      "\n",
      "[3 rows x 113 columns]\n"
     ]
    }
   ],
   "source": [
    " import pandas as pd\n",
    "\n",
    "population = pd.read_csv(r\"C:\\Users\\22442801\\Downloads\\Literacy Rate inflation GDP in Bangladesh Dataset - RAW.csv\")\n",
    "population.columns = population.columns.str.strip()\n",
    "\n",
    "# Drop columns safely\n",
    "columns_to_drop = ['Annual Change (%)', 'Suicide Rate - Male', 'Suicide Rate - Female', 'Arable Land -Hectares', 'Suicide Rate']\n",
    "population.drop(columns=columns_to_drop, errors='ignore', inplace=True)\n",
    "\n",
    "# Rename columns if needed\n",
    "population.rename(columns={'Year': 'Financial Year'}, inplace=True)\n",
    "\n",
    "# Check\n",
    "print(population.head(3))\n"
   ]
  },
  {
   "cell_type": "markdown",
   "id": "1a2a52e9-c624-4394-8a2f-2f7ddb66234c",
   "metadata": {},
   "source": [
    "### crime"
   ]
  },
  {
   "cell_type": "code",
   "execution_count": 101,
   "id": "375045fe-38de-4099-b70c-af7cac090597",
   "metadata": {},
   "outputs": [],
   "source": [
    "import pandas as pd\n",
    "crime = pd.read_csv(r\"C:\\Users\\22442801\\Downloads\\crime_incidents_by_category.csv\")\n",
    "crime.head(3)\n",
    "columns_to_drop = ['Count']\n",
    "population.drop(columns=columns_to_drop, errors='ignore', inplace=True)"
   ]
  },
  {
   "cell_type": "code",
   "execution_count": 46,
   "id": "d0944c46-4102-4481-aa34-4fc955fec779",
   "metadata": {},
   "outputs": [
    {
     "data": {
      "text/html": [
       "<div>\n",
       "<style scoped>\n",
       "    .dataframe tbody tr th:only-of-type {\n",
       "        vertical-align: middle;\n",
       "    }\n",
       "\n",
       "    .dataframe tbody tr th {\n",
       "        vertical-align: top;\n",
       "    }\n",
       "\n",
       "    .dataframe thead th {\n",
       "        text-align: right;\n",
       "    }\n",
       "</style>\n",
       "<table border=\"1\" class=\"dataframe\">\n",
       "  <thead>\n",
       "    <tr style=\"text-align: right;\">\n",
       "      <th></th>\n",
       "      <th>Location</th>\n",
       "      <th>Crime Category</th>\n",
       "      <th>Year</th>\n",
       "      <th>Count</th>\n",
       "    </tr>\n",
       "  </thead>\n",
       "  <tbody>\n",
       "    <tr>\n",
       "      <th>0</th>\n",
       "      <td>ZA</td>\n",
       "      <td>Contact Crimes</td>\n",
       "      <td>2011/2012</td>\n",
       "      <td>615935</td>\n",
       "    </tr>\n",
       "    <tr>\n",
       "      <th>1</th>\n",
       "      <td>ZA</td>\n",
       "      <td>Contact Crimes</td>\n",
       "      <td>2012/2013</td>\n",
       "      <td>608724</td>\n",
       "    </tr>\n",
       "    <tr>\n",
       "      <th>2</th>\n",
       "      <td>ZA</td>\n",
       "      <td>Contact Crimes</td>\n",
       "      <td>2013/2014</td>\n",
       "      <td>611574</td>\n",
       "    </tr>\n",
       "  </tbody>\n",
       "</table>\n",
       "</div>"
      ],
      "text/plain": [
       "  Location  Crime Category       Year   Count\n",
       "0       ZA  Contact Crimes  2011/2012  615935\n",
       "1       ZA  Contact Crimes  2012/2013  608724\n",
       "2       ZA  Contact Crimes  2013/2014  611574"
      ]
     },
     "execution_count": 46,
     "metadata": {},
     "output_type": "execute_result"
    }
   ],
   "source": [
    "crime.head(3)"
   ]
  },
  {
   "cell_type": "markdown",
   "id": "a44a4dbc-40d5-4246-95ea-933be2528760",
   "metadata": {},
   "source": [
    "### Merging my tables"
   ]
  },
  {
   "cell_type": "markdown",
   "id": "c919871e-aa56-487f-8fd6-5089761aff3b",
   "metadata": {},
   "source": [
    "combining the population table and the crime table"
   ]
  },
  {
   "cell_type": "raw",
   "id": "bdd2b4df-c60a-4634-a088-7df136f54314",
   "metadata": {},
   "source": [
    "df_merged = pd.merge(population, crime , on='Financial Year', how='outer')\n",
    "df_merged.head(3)\n"
   ]
  },
  {
   "cell_type": "raw",
   "id": "6befd765-12fd-4820-86d7-01ca43d8f12f",
   "metadata": {},
   "source": [
    "Can't merge my tables becauuse the Financial Year does not want to be renamed"
   ]
  },
  {
   "cell_type": "markdown",
   "id": "0d0a92e2-dcbc-4d1f-83d7-3f9f0926d88f",
   "metadata": {},
   "source": [
    "### Visualization"
   ]
  },
  {
   "cell_type": "code",
   "execution_count": null,
   "id": "7ce1e6f1-9781-45e1-a353-a5b865f735b1",
   "metadata": {},
   "outputs": [],
   "source": []
  },
  {
   "cell_type": "raw",
   "id": "f87d617d-cf01-47ee-add9-67f90a5ba65a",
   "metadata": {},
   "source": [
    "import matplotlib.pyplot as plt\n",
    "\n",
    "staff_cols = [\"Crime Category\", \"Year\" , \"Location\"]\n",
    "\n",
    "staff_summary = final_data.groupby(\"Year\")[staff_cols].sum()\n",
    "\n",
    "staff_summary.plot(kind=\"bar\", figsize=(8,4), stacked=True)\n",
    "plt.title(\"Healthcare Staff Distribution per Location\")\n",
    "plt.ylabel(\"Population Growth Rate\")\n",
    "plt.xlabel(\"Year\")\n",
    "plt.xticks(rotation=45)\n",
    "plt.show()\n",
    "\n",
    "     \n"
   ]
  },
  {
   "cell_type": "raw",
   "id": "e318113d-bf5b-4c93-a315-dd1649dc05e4",
   "metadata": {},
   "source": [
    "Cannot visualize since my tables are already not merged due to the \"Financial Year\",issue that I cant get through and it is preventing me from going further"
   ]
  },
  {
   "cell_type": "markdown",
   "id": "12eda499-2d8c-4a15-a55f-f6cef738c709",
   "metadata": {},
   "source": [
    "### Heatmap"
   ]
  },
  {
   "cell_type": "raw",
   "id": "362d5ce0-bc3c-4ca7-b43a-519e4b378323",
   "metadata": {},
   "source": [
    "import seaborn as sns\n",
    "\n",
    "corr_cols = [\"Year\" , \"Crime Category]\n",
    "\n",
    "corr_matrix = final_data[corr_cols].apply(pd.to_numeric, errors=\"coerce\").corr()\n",
    "\n",
    "plt.figure(figsize=(9,5))\n",
    "sns.heatmap(\"Population_growth_rate\")\n",
    "plt.show()"
   ]
  }
 ],
 "metadata": {
  "kernelspec": {
   "display_name": "Python 3 (ipykernel)",
   "language": "python",
   "name": "python3"
  },
  "language_info": {
   "codemirror_mode": {
    "name": "ipython",
    "version": 3
   },
   "file_extension": ".py",
   "mimetype": "text/x-python",
   "name": "python",
   "nbconvert_exporter": "python",
   "pygments_lexer": "ipython3",
   "version": "3.13.5"
  }
 },
 "nbformat": 4,
 "nbformat_minor": 5
}
